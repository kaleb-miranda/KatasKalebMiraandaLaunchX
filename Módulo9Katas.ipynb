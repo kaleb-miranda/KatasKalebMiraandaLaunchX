{
 "cells": [
  {
   "cell_type": "markdown",
   "metadata": {},
   "source": [
    "## Ejercicio: Uso de funciones en Python\n",
    "Ejercicio 1: Trabajar con argumentos en funciones\n",
    "Los argumentos requeridos en las funciones se utilizan cuando las funciones necesitan que esos argumentos funcionen correctamente. En este ejercicio, construirás un informe de combustible que requiere información de varias ubicaciones de combustible en todo el cohete.\n",
    "\n",
    "TIP Dedica unos minutos para tratar de encontrar una solución. Luego desplázate hacia abajo hasta la parte inferior para ver si has logrado compilar el programa de acuerdo con las especificaciones\n",
    "\n",
    "Comienza por crear una función que necesite tres lecturas de combustible y devuelva un informe:"
   ]
  },
  {
   "cell_type": "code",
   "execution_count": null,
   "metadata": {},
   "outputs": [],
   "source": [
    "def lecturas_combustible(tanque1,tanque2,tanque3):\n",
    "    promedio =(tanque1+tanque2+tanque3) / 3\n",
    "    return f\"\"\"en el primer tanque hay {tanque1} % de combustible, \n",
    "    en el segundo hay {tanque2} % de combustible \n",
    "    y en el tercer tanque hay {tanque3} % de combustible\n",
    "    en promedio hay: {promedio} %\n",
    "    \"\"\"\n"
   ]
  },
  {
   "cell_type": "markdown",
   "metadata": {},
   "source": [
    "Ahora que hemos definido la función de informes, vamos a comprobarlo. Para esta misión, los tanques no están llenos:"
   ]
  },
  {
   "cell_type": "code",
   "execution_count": null,
   "metadata": {},
   "outputs": [],
   "source": [
    "\n",
    "print(lecturas_combustible(85,52,32))"
   ]
  },
  {
   "cell_type": "markdown",
   "metadata": {},
   "source": [
    "En lugar de simplemente crear el informe, la función también está calculando el promedio. Mejora la legibilidad extrayendo el cálculo promedio de la función en una nueva función para que el promedio se pueda hacer de forma independiente:"
   ]
  },
  {
   "cell_type": "code",
   "execution_count": null,
   "metadata": {},
   "outputs": [],
   "source": [
    "def promedioindependiente(valores):\n",
    "    total = sum(valores)\n",
    "    longitud  = len(valores)\n",
    "\n",
    "    return total / longitud\n",
    "\n",
    "promedioindependiente([85,45,12])\n"
   ]
  },
  {
   "cell_type": "markdown",
   "metadata": {},
   "source": [
    "Ahora actualiza la función de informes para llamando a la nueva función del promedio:"
   ]
  },
  {
   "cell_type": "code",
   "execution_count": null,
   "metadata": {},
   "outputs": [],
   "source": [
    "def lecturas_combustible(tanque1,tanque2,tanque3):\n",
    " \n",
    "    return f\"\"\"en el primer tanque hay {tanque1} % de combustible, \n",
    "    en el segundo hay {tanque2} % de combustible \n",
    "    y en el tercer tanque hay {tanque3} % de combustible\n",
    "    en promedio hay: {promedioindependiente([tanque1,tanque2,tanque3])} %\n",
    "    \"\"\"\n",
    "\n",
    "print(lecturas_combustible(75,10,32))"
   ]
  },
  {
   "cell_type": "markdown",
   "metadata": {},
   "source": [
    "## Ejercicio 2: Trabajo con argumentos de palabra clave\n",
    "Ejercicio : Trabajar con argumentos de palabras clave en funciones\n",
    "En este ejercicio, construirás un informe de cohete que requiere varias piezas de información, como el tiempo hasta el destino, el combustible a la izquierda y el nombre del destino. Comienza por crear una función que creará un informe preciso de la misión:"
   ]
  },
  {
   "cell_type": "code",
   "execution_count": null,
   "metadata": {},
   "outputs": [],
   "source": [
    "def informe(prelanzamiento,tiempovuelo,destino,tanqueinterno,tanqueexterno):\n",
    "    return f\"\"\"mision para {destino}\n",
    "    tiempo de vuelo: {prelanzamiento+tiempovuelo}\n",
    "    combustible : {tanqueinterno+tanqueexterno}\n",
    "    \"\"\"\n",
    "\n",
    "\n",
    "print(informe(14,51,\"tierra\",95,85))"
   ]
  },
  {
   "cell_type": "markdown",
   "metadata": {},
   "source": [
    "La función es problemática porque no se puede adaptar para minutos adicionales o tanques adicionales de combustible. Hazlo más flexible permitiendo cualquier número de pasos basados en el tiempo y cualquier número de tanques. En lugar de usar *args y **kwargs, aprovecha el hecho de que puedes usar cualquier nombre que desees. Asegurate que la función sea más legible mediante el uso de nombres de variables que están asociados con las entradas, como *minutes y **fuel_reservoirs:"
   ]
  },
  {
   "cell_type": "code",
   "execution_count": null,
   "metadata": {},
   "outputs": [],
   "source": [
    "def informe_actualizado(destino,*prelanzamiento,**tanques):\n",
    "    return f\"\"\"mision para {destino}\n",
    "    tiempo de vuelo: {sum(prelanzamiento)}\n",
    "    combustible : {sum(tanques.values())}\n",
    "    \"\"\"\n",
    "\n",
    "print(informe_actualizado(\"marte\",45,85,interno=85,externo=45))"
   ]
  },
  {
   "cell_type": "markdown",
   "metadata": {},
   "source": [
    "Debido a que el combustible que queda en los tanques es específico de cada tanque, actualiza la función para usar el nombre de cada tanque en el informe"
   ]
  },
  {
   "cell_type": "code",
   "execution_count": 43,
   "metadata": {},
   "outputs": [
    {
     "name": "stdout",
     "output_type": "stream",
     "text": [
      "mision para tierra\n",
      "    tiempo de vuelo: 57\n",
      "    combustible : 130\n",
      "    interno tanque: 45externo tanque: 85\n"
     ]
    }
   ],
   "source": [
    "def informe_actualizado2(destino,*prelanzamiento,**tanques):\n",
    "    reporte = f\"\"\"mision para {destino}\n",
    "    tiempo de vuelo: {sum(prelanzamiento)}\n",
    "    combustible : {sum(tanques.values())}\n",
    "    \"\"\"\n",
    "    for nombre,galones in tanques.items():\n",
    "        reporte += f\"{nombre} tanque: {galones}\"\n",
    "    return reporte\n",
    "\n",
    "print(informe_actualizado2(\"tierra\",45,12,interno = 45, externo = 85))\n"
   ]
  }
 ],
 "metadata": {
  "interpreter": {
   "hash": "e896bdb0771bd752e2c18cb73367f6f6c45b253cf160112ee42a7285a6ccfee6"
  },
  "kernelspec": {
   "display_name": "Python 3.10.2 64-bit",
   "language": "python",
   "name": "python3"
  },
  "language_info": {
   "codemirror_mode": {
    "name": "ipython",
    "version": 3
   },
   "file_extension": ".py",
   "mimetype": "text/x-python",
   "name": "python",
   "nbconvert_exporter": "python",
   "pygments_lexer": "ipython3",
   "version": "3.10.2"
  },
  "orig_nbformat": 4
 },
 "nbformat": 4,
 "nbformat_minor": 2
}
