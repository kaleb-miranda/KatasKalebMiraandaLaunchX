{
 "cells": [
  {
   "cell_type": "markdown",
   "metadata": {},
   "source": [
    "## Ejercicio - Escribir declaraciones if, else, y elif"
   ]
  },
  {
   "cell_type": "markdown",
   "metadata": {},
   "source": [
    "Para este ejercicio, escribirás una lógica condicional que imprima una advertencia si un asteroide se acerca a la Tierra demasiado rápido. La velocidad del asteroide varía dependiendo de lo cerca que esté del sol, y cualquier velocidad superior a 25 kilómetros por segundo (km/s) merece una advertencia.\n",
    "\n",
    "Un asteroide se acerca, y viaja a una velocidad de 49 km/s."
   ]
  },
  {
   "cell_type": "code",
   "execution_count": null,
   "metadata": {},
   "outputs": [],
   "source": [
    "\n",
    "velocidad = int(input(\"escriba la velocidad del asteoride\"))\n",
    "\n",
    "if velocidad > 25:\n",
    "    print(f\"un asteoride se hacerca demasiado rapido a la tierra con una velocidad de: {velocidad} km/s\")\n",
    "else:\n",
    "    print(f\"un asteoride se acerca a la tierra con una velocidad de: {velocidad} km/s no hay mucho peligro\")\n",
    "\n"
   ]
  },
  {
   "cell_type": "markdown",
   "metadata": {},
   "source": [
    "Si un asteroide entra en la atmósfera de la Tierra a una velocidad mayor o igual a 20 km/s, a veces produce un rayo de luz que se puede ver desde la Tierra. Escribe la lógica condicional que usa declaraciones if, else, y elif para alertar a las personas de todo el mundo que deben buscar un asteroide en el cielo. ¡Hay uno que se dirige a la tierra ahora a una velocidad de 19 km/s!"
   ]
  },
  {
   "cell_type": "code",
   "execution_count": null,
   "metadata": {},
   "outputs": [],
   "source": [
    "velocidadAtmos = int(input(\"escriba la velocidad del asteoride\"))\n",
    "\n",
    "if velocidadAtmos >= 20:\n",
    "    print(\"Hay un rayo de luz en el cielo!\")\n",
    "elif velocidadAtmos == 20:\n",
    "    print(\"Hay un rayo de luz en el cielo!\")\n",
    "else:\n",
    "      print(\"No se ve nada en el cielo\")  \n"
   ]
  },
  {
   "cell_type": "markdown",
   "metadata": {},
   "source": [
    "## Ejercicio: Uso de operadores and y or\n",
    "En el ejercicio anterior, trabajó con sentencias if, else, y elif para escribir programas con lógica condicional compleja. Para crear expresiones booleanas aún más interesantes, puede usar los operadores and y or en Python.\n",
    "\n",
    "Las expresiones and son sólo si ambas subexpresiones son verdaderas.\n",
    "\n",
    "expresión1 and expresión2\n",
    "\n",
    "Las expresiones or son True si al menos una subexpresión es verdadera.\n",
    "\n",
    "expresión1 or expresión2\n",
    "\n",
    "En este ejercicio, aprenderás información más matizada sobre cuándo los asteroides representan un peligro para la Tierra, y utilizarás esa información para mejorar nuestro sistema de advertencia. Aquí está la nueva información que necesitas saber:\n",
    "\n",
    "*Los asteroides de menos de 25 metros en su dimensión más grande probablemente se quemarán a medida que entren en la atmósfera de la Tierra.\n",
    "\n",
    "Si una pieza de un asteroide que es más grande que 25 metros pero más pequeña que 1000 metros golpeara la Tierra, causaría mucho daño.\n",
    "También discutimos en el ejercicio anterior que:\n",
    "\n",
    "La velocidad del asteroide varía en función de lo cerca que esté del sol, y cualquier velocidad superior a 25 kilómetros por segundo (km/s) merece una advertencia.\n",
    "Si un asteroide entra en la atmósfera de la Tierra a una velocidad mayor o igual a 20 km/s, a veces produce un rayo de luz que se puede ver desde la Tierra.\n",
    "Usando toda esta información, escribe un programa que emita la advertencia o información correcta a la gente de la Tierra, según la velocidad y el tamaño de un asteroide. Utiliza instrucciones if, else, y elif, así como los operadores and y or."
   ]
  },
  {
   "cell_type": "code",
   "execution_count": 17,
   "metadata": {},
   "outputs": [
    {
     "name": "stdout",
     "output_type": "stream",
     "text": [
      "peligro inminente asteoide con dimension de: 30 se impactara contra la tierra a una velocidad de: 30km /s!!\n"
     ]
    }
   ],
   "source": [
    "medidaAsteroide = int(input(\"ingrese la medida del asteroide:\"))\n",
    "\n",
    "velocidadAsteroide = int(input(\"ingrese la velocidad  del asteroide:\"))\n",
    "\n",
    "if medidaAsteroide > 25 and velocidadAsteroide > 25:\n",
    "    print(f\"peligro inminente asteoide con dimension de: {medidaAsteroide} metros se impactara contra la tierra a una velocidad de: {velocidadAsteroide}km/s\") \n",
    "elif velocidadAsteroide >=20:\n",
    "    print(f\"hay una luz en el cielo!!\")\n",
    "elif velocidadAsteroide < 25 and medidaAsteroide < 25:\n",
    "    print(\"no hay peligro ni luz en el cielo\")    \n",
    "else:\n",
    "    print(\"sin peligro alguno\")"
   ]
  }
 ],
 "metadata": {
  "interpreter": {
   "hash": "e896bdb0771bd752e2c18cb73367f6f6c45b253cf160112ee42a7285a6ccfee6"
  },
  "kernelspec": {
   "display_name": "Python 3.10.2 64-bit",
   "language": "python",
   "name": "python3"
  },
  "language_info": {
   "codemirror_mode": {
    "name": "ipython",
    "version": 3
   },
   "file_extension": ".py",
   "mimetype": "text/x-python",
   "name": "python",
   "nbconvert_exporter": "python",
   "pygments_lexer": "ipython3",
   "version": "3.10.2"
  },
  "orig_nbformat": 4
 },
 "nbformat": 4,
 "nbformat_minor": 2
}
